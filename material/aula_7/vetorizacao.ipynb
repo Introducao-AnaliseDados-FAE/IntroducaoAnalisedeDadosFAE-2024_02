{
 "cells": [
  {
   "cell_type": "code",
   "execution_count": 1,
   "id": "02ba5232-43d6-497c-ae79-0714920f77dd",
   "metadata": {},
   "outputs": [],
   "source": [
    "# Sem vetorização\n",
    "a = [1, 2, 3]\n",
    "b = [4, 5, 6]\n",
    "c = [a[i] + b[i] for i in range(len(a))]\n"
   ]
  },
  {
   "cell_type": "code",
   "execution_count": 2,
   "id": "78b24f0d-4e02-4227-a2f4-8211d95d9d64",
   "metadata": {},
   "outputs": [
    {
     "name": "stdout",
     "output_type": "stream",
     "text": [
      "[5, 7, 9]\n"
     ]
    }
   ],
   "source": [
    "print(c)"
   ]
  },
  {
   "cell_type": "code",
   "execution_count": 3,
   "id": "f8c005e7-eca3-46b0-b9ac-a4718582fa85",
   "metadata": {},
   "outputs": [],
   "source": [
    "import numpy as np\n",
    "a = np.array([1, 2, 3])\n",
    "b = np.array([4, 5, 6])\n",
    "c = a + b\n"
   ]
  },
  {
   "cell_type": "code",
   "execution_count": 4,
   "id": "da131ade-7967-4384-ab16-d2499ef81eea",
   "metadata": {},
   "outputs": [
    {
     "name": "stdout",
     "output_type": "stream",
     "text": [
      "[5 7 9]\n"
     ]
    }
   ],
   "source": [
    "print(c)"
   ]
  },
  {
   "cell_type": "markdown",
   "id": "fde83584-947a-4fde-975d-7214577d9b54",
   "metadata": {},
   "source": [
    "A soma vetorizada é executada em uma única operação para todos os elementos, sem a necessidade de um loop explícito."
   ]
  },
  {
   "cell_type": "markdown",
   "id": "5216df45-bcfc-4bfe-a314-c12a9f2e4797",
   "metadata": {},
   "source": [
    "Uma matriz pode ser vista como uma coleção de vetores (ou arrays) organizados em duas dimensões."
   ]
  },
  {
   "cell_type": "code",
   "execution_count": null,
   "id": "383d47f0-c749-4236-bc72-029f0ae97c66",
   "metadata": {},
   "outputs": [],
   "source": []
  }
 ],
 "metadata": {
  "kernelspec": {
   "display_name": "Python 3.12 (com ROOT)",
   "language": "python",
   "name": "python3.12"
  },
  "language_info": {
   "codemirror_mode": {
    "name": "ipython",
    "version": 3
   },
   "file_extension": ".py",
   "mimetype": "text/x-python",
   "name": "python",
   "nbconvert_exporter": "python",
   "pygments_lexer": "ipython3",
   "version": "3.12.2"
  }
 },
 "nbformat": 4,
 "nbformat_minor": 5
}
